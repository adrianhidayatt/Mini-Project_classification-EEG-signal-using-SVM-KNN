{
  "nbformat": 4,
  "nbformat_minor": 0,
  "metadata": {
    "colab": {
      "provenance": []
    },
    "kernelspec": {
      "name": "python3",
      "display_name": "Python 3"
    },
    "language_info": {
      "name": "python"
    }
  },
  "cells": [
    {
      "cell_type": "markdown",
      "source": [
        "## **Assignment 6: Tugas Phyton 2**\n",
        "\n",
        "Nama: Muh. Adrian Hidayat\n",
        "NIM : 1102200515"
      ],
      "metadata": {
        "id": "E46FynL1l0Wi"
      }
    },
    {
      "cell_type": "markdown",
      "source": [
        "## **1.) 75% training, 25% testing**"
      ],
      "metadata": {
        "id": "D8GRT46Y8b3g"
      }
    },
    {
      "cell_type": "markdown",
      "source": [
        "## Import library yang digunakan"
      ],
      "metadata": {
        "id": "kDjk_8DAyrX-"
      }
    },
    {
      "cell_type": "code",
      "source": [
        "import pandas as pd\n",
        "from sklearn.model_selection import train_test_split, GridSearchCV\n",
        "from sklearn.preprocessing import StandardScaler, LabelEncoder\n",
        "from sklearn.svm import SVC\n",
        "from sklearn.neighbors import KNeighborsClassifier\n",
        "from sklearn.metrics import accuracy_score, classification_report, confusion_matrix, precision_score, recall_score, f1_score\n",
        "from sklearn.model_selection import KFold\n",
        "from sklearn.model_selection import cross_val_predict\n",
        "from sklearn.model_selection import cross_val_score\n",
        "import numpy as np\n",
        "from sklearn.metrics import make_scorer"
      ],
      "metadata": {
        "id": "vqPH6SaT0P_0"
      },
      "execution_count": 656,
      "outputs": []
    },
    {
      "cell_type": "markdown",
      "source": [
        "Memasukkan data yang akan diolah"
      ],
      "metadata": {
        "id": "8bPTUcuogBGH"
      }
    },
    {
      "cell_type": "code",
      "source": [
        "from google.colab import drive\n",
        "drive.mount('/content/drive') #meminta izin untuk mengakses drive kemudian memountnya ke path yang ada\n",
        "#df = pd.read_csv('/content/drive/MyDrive/Colab Notebooks/CPA1-3/CPA1.csv') # aktifkan untuk membaca file CPA1 kemudian menyimpannya kedalam dataframe variabel df\n",
        "#df = pd.read_csv('/content/drive/MyDrive/Colab Notebooks/CPA1-3/CPA2.csv') # aktifkan untuk membaca file CPA2 kemudian menyimpannya kedalam dataframe variabel df\n",
        "#df = pd.read_csv('/content/drive/MyDrive/Colab Notebooks/CPA1-3/CPA3.csv') # aktifkan untuk membaca file CPA3 kemudian menyimpannya kedalam dataframe variabel df\n",
        "#df = pd.read_csv('/content/drive/MyDrive/Colab Notebooks/CPC1-5/CPC1.csv') # aktifkan untuk membaca file CPC1 kemudian menyimpannya kedalam dataframe variabel df\n",
        "#df = pd.read_csv('/content/drive/MyDrive/Colab Notebooks/CPC1-5/CPC2.csv') # aktifkan untuk membaca file CPC2 kemudian menyimpannya kedalam dataframe variabel df\n",
        "#df = pd.read_csv('/content/drive/MyDrive/Colab Notebooks/CPC1-5/CPC3.csv') # aktifkan untuk membaca file CPC3 kemudian menyimpannya kedalam dataframe variabel df\n",
        "#df = pd.read_csv('/content/drive/MyDrive/Colab Notebooks/CPC1-5/CPC4.csv') # aktifkan untuk membaca file CPC4 kemudian menyimpannya kedalam dataframe variabel df\n",
        "df = pd.read_csv('/content/drive/MyDrive/Colab Notebooks/CPC1-5/CPC5.csv') # aktifkan untuk membaca file CPC5 kemudian menyimpannya kedalam dataframe variabel df\n",
        "label_encoder = LabelEncoder() #membuat objek label encoder berfungsi menyimpan label menjadi nilai numerik\n",
        "df['kelas'] = label_encoder.fit_transform(df['kelas']) #mentransform nilai kelas pada dataframe sesuai dengan model fit dari label encoder untuk mengubah nilai kelas menjadi nilai numerik\n",
        "print(df)"
      ],
      "metadata": {
        "colab": {
          "base_uri": "https://localhost:8080/"
        },
        "id": "FcLBUDuEgAd4",
        "outputId": "8276fca4-bdc8-4a25-f8ac-e9dec4d5fb65"
      },
      "execution_count": 657,
      "outputs": [
        {
          "output_type": "stream",
          "name": "stdout",
          "text": [
            "Drive already mounted at /content/drive; to attempt to forcibly remount, call drive.mount(\"/content/drive\", force_remount=True).\n",
            "       powLv1    powLv2    powLv3    powLv4    powLv5  kelas\n",
            "0    0.446692  0.220117  0.144672  0.106003  0.082516      0\n",
            "1    0.442455  0.219658  0.145039  0.107494  0.085354      0\n",
            "2    0.446993  0.220535  0.144443  0.105565  0.082465      0\n",
            "3    0.457090  0.221898  0.141954  0.101666  0.077392      0\n",
            "4    0.447407  0.220674  0.143812  0.105975  0.082134      0\n",
            "..        ...       ...       ...       ...       ...    ...\n",
            "495  0.444264  0.220282  0.144946  0.106833  0.083676      2\n",
            "496  0.445045  0.220472  0.144977  0.106466  0.083040      2\n",
            "497  0.445374  0.220198  0.145034  0.106326  0.083069      2\n",
            "498  0.449798  0.221450  0.143373  0.105009  0.080371      2\n",
            "499  0.446266  0.220902  0.144428  0.105523  0.082881      2\n",
            "\n",
            "[500 rows x 6 columns]\n"
          ]
        }
      ]
    },
    {
      "cell_type": "markdown",
      "source": [
        "##Preprocessing Data"
      ],
      "metadata": {
        "id": "nk7a9FDOoRd2"
      }
    },
    {
      "cell_type": "code",
      "source": [
        "\n",
        "X = df.iloc[:, :-1]  # penentuan fitur (mengambambil semua kolom kecuali kolom terakhir) atau dapat menggunakan syntax x= df.drop(['label'], index = 0 (baris)/ 1 (kolom))\n",
        "y = df.iloc[:, -1]   # Target ( mengambil kolom target/ label yaitu kolom terakhir)  atau dapat menggunakan syntax y=df ['label']\n",
        "\n",
        "X_train, X_test, y_train, y_test = train_test_split(X, y, test_size=0.25, random_state=42)\n",
        "\n",
        "##preprocessing data untuk SVM\n",
        "scaler = StandardScaler() # membuat objek dari kelas StandardScaler yang akan digunakan untuk menormalkan atau menskalakan fitur-fitur dataset.\n",
        "X_train_scaled = scaler.fit_transform(X_train)  #untuk menormalkan fitur-fitur dalam data training\n",
        "X_test_scaled = scaler.transform(X_test) #menerapkan transformasi yang sama yang diterapkan pada data training ke data testing"
      ],
      "metadata": {
        "id": "YcKvOSfnhD2s"
      },
      "execution_count": 658,
      "outputs": []
    },
    {
      "cell_type": "markdown",
      "source": [
        "##Proses klasifikasi SVM"
      ],
      "metadata": {
        "id": "bvfNZ5316dUG"
      }
    },
    {
      "cell_type": "code",
      "source": [
        "svm_classifier = SVC() #pembuatan objek klasifikasi SVM melalui library SVC\n",
        "svm_param_grid = {'C': [0.1, 1, 10, 100], 'gamma': [1, 0.1, 0.01, 0.001], 'kernel': ['linear']} ##penentuan nilai C, gamma, dan kernel yang mana yang berpengaruh pada akurasi adalah kernel\n",
        "svm_grid_search = GridSearchCV(svm_classifier, svm_param_grid, cv=10, scoring='accuracy') #membuat objek GridSearchCV guna mencari best parameter untuk SVM, dimana CV=10 berarti melakukan validasi silang sebanyak 10 kali dan menjadikan akurasi sebagai metrik valuasi\n",
        "svm_grid_search.fit(X_train_scaled, y_train) # melakukan fit pada grid hingga menemukan best parameter dari data\n",
        "svm_best_params = svm_grid_search.best_params_\n",
        "\n",
        "svm_classifier = SVC(**svm_best_params) #membuat objek klasifikasi SVM lagi namun dengan parameter terbaik\n",
        "svm_classifier.fit(X_train_scaled, y_train) #melakukan fit dengan model SVM terbaru\n",
        "\n",
        "svm_predictions = svm_classifier.predict(X_test_scaled) #melakukan prediksi menggunakan model SVM yang telah dilatih pada data test yang telah dinormalisasi\n",
        "\n",
        "svm_conf_matrix = confusion_matrix(y_test, svm_predictions) # menghitung matriks kebingungan (confusion matrix) antara nilai target sebenarnya (y_test) dan nilai prediksi dari model SVM.\n",
        "print(confusion_matrix(y_test, svm_predictions))\n",
        "#svm_TN, svm_FP, svm_FN, svm_TP = svm_conf_matrix.ravel() #diperlukan untuk mengekstrak nilai conf matriks (TP,TN,FP,FN) untuk digunakan dalam proses evaluasi model (specificity, dll). kemudian penggunaan metode ravel untuk mengubah conf matriks dari 2x2 menjadi 1 dimensi.\n",
        "svm_TN, svm_FP, svm_FN, svm_TP, _, _, _, _, _ = svm_conf_matrix.ravel() #dinyalakan jika matriksnya berukuran 3x3\n"
      ],
      "metadata": {
        "colab": {
          "base_uri": "https://localhost:8080/"
        },
        "id": "9zMA4NHxiRd5",
        "outputId": "4c4facd4-79c3-4f48-bf4b-4f5762391fbf"
      },
      "execution_count": 659,
      "outputs": [
        {
          "output_type": "stream",
          "name": "stdout",
          "text": [
            "[[33  9  9]\n",
            " [ 7 37  3]\n",
            " [15  5  7]]\n"
          ]
        }
      ]
    },
    {
      "cell_type": "markdown",
      "source": [
        "## Proses klasifikasi KNN"
      ],
      "metadata": {
        "id": "I6HzmlZS6npP"
      }
    },
    {
      "cell_type": "code",
      "source": [
        "knn_classifier = KNeighborsClassifier() #membuat objek klasifikasi KNN\n",
        "\n",
        "knn_param_grid = {'n_neighbors': [3, 5, 7, 9, 11], 'weights': ['uniform', 'distance']} #mendefinisikan grid parameter yang akan dijelajahi dalan gridsearch mulai dari  nilai tetangga dan juga bobot\n",
        "knn_grid_search = GridSearchCV(knn_classifier, knn_param_grid, cv=10, scoring='accuracy') #membuat objek GridSearchCV guna mencari best parameter untuk KNN, dimana CV=10 berarti melakukan validasi silang sebanyak 10 kali dan menjadikan akurasi sebagai metrik valuasi\n",
        "knn_grid_search.fit(X_train_scaled, y_train) # melakukan fit pada grid hingga menemukan best parameter dari data\n",
        "knn_best_params = knn_grid_search.best_params_\n",
        "\n",
        "knn_classifier = KNeighborsClassifier(**knn_best_params)  #membuat objek klasifikasi KNN lagi namun dengan parameter terbaik\n",
        "knn_classifier.fit(X_train_scaled, y_train)  #melakukan fit dengan model KNN terbaru\n",
        "\n",
        "knn_predictions = knn_classifier.predict(X_test_scaled) #melakukan prediksi menggunakan model SVM yang telah dilatih pada data test yang telah dinormalisasi\n",
        "\n",
        "knn_conf_matrix = confusion_matrix(y_test, knn_predictions) # menghitung matriks kebingungan (confusion matrix) antara nilai target sebenarnya (y_test) dan nilai prediksi dari model SVM.\n",
        "print (knn_conf_matrix)\n",
        "#knn_TN, knn_FP, knn_FN, knn_TP = knn_conf_matrix.ravel() #diperlukan untuk mengekstrak nilai conf matriks (TP,TN,FP,FN) untuk digunakan dalam proses evaluasi model (specificity, dll). kemudian penggunaan metode ravel untuk mengubah conf matriks dari 2x2 menjadi 1 dimensi.\n",
        "knn_TN, knn_FP, knn_FN, knn_TP, _, _, _, _, _ = knn_conf_matrix.ravel() #dinyalakan jika matriksnya berukuran 3x3\n",
        "\n",
        "print (knn_conf_matrix)"
      ],
      "metadata": {
        "colab": {
          "base_uri": "https://localhost:8080/"
        },
        "id": "rX4ReKwtmQma",
        "outputId": "f522f850-6a5b-4f2c-85bf-512c902e3b13"
      },
      "execution_count": 660,
      "outputs": [
        {
          "output_type": "stream",
          "name": "stdout",
          "text": [
            "[[38  8  5]\n",
            " [ 6 34  7]\n",
            " [16  3  8]]\n",
            "[[38  8  5]\n",
            " [ 6 34  7]\n",
            " [16  3  8]]\n"
          ]
        }
      ]
    },
    {
      "cell_type": "markdown",
      "source": [
        "## Hasil"
      ],
      "metadata": {
        "id": "lE_NFU2p8BFm"
      }
    },
    {
      "cell_type": "markdown",
      "source": [
        "Melihat hasil confusion matrix dari model SVM dan KNN"
      ],
      "metadata": {
        "id": "69VF961b2pRr"
      }
    },
    {
      "cell_type": "code",
      "source": [
        "print(\"Confusion Matrix svm :\")\n",
        "print(confusion_matrix(y_test, svm_predictions))\n",
        "\n",
        "svm_TN = confusion_matrix(y_test, svm_predictions)[0, 0]\n",
        "svm_FP = confusion_matrix(y_test, svm_predictions)[0, 1]\n",
        "svm_FN = confusion_matrix(y_test, svm_predictions)[1, 0]\n",
        "svm_TP = confusion_matrix(y_test, svm_predictions)[1, 1]\n",
        "\n",
        "print(\"Confusion Matrix knn :\")\n",
        "print(confusion_matrix(y_test, knn_predictions))\n",
        "\n",
        "knn_TN = confusion_matrix(y_test, knn_predictions)[0, 0]\n",
        "knn_FP = confusion_matrix(y_test, knn_predictions)[0, 1]\n",
        "knn_FN = confusion_matrix(y_test, knn_predictions)[1, 0]\n",
        "knn_TP = confusion_matrix(y_test, knn_predictions)[1, 1]"
      ],
      "metadata": {
        "colab": {
          "base_uri": "https://localhost:8080/"
        },
        "id": "XmZIPFr1mKSb",
        "outputId": "fca5b984-9c98-4799-e5b8-6f2374cea1fc"
      },
      "execution_count": 661,
      "outputs": [
        {
          "output_type": "stream",
          "name": "stdout",
          "text": [
            "Confusion Matrix svm :\n",
            "[[33  9  9]\n",
            " [ 7 37  3]\n",
            " [15  5  7]]\n",
            "Confusion Matrix knn :\n",
            "[[38  8  5]\n",
            " [ 6 34  7]\n",
            " [16  3  8]]\n"
          ]
        }
      ]
    },
    {
      "cell_type": "markdown",
      "source": [
        " Evaluasi model berdasarkan nilai dari 4 parameter yang ingin diuji ( Akurasi, Sensitivitas, Specifitas, F1-Score )"
      ],
      "metadata": {
        "id": "WVx8oFUN6xZD"
      }
    },
    {
      "cell_type": "code",
      "source": [
        "#Evaluasi model\n",
        "svm_predictions = svm_classifier.predict(X_test_scaled)  #mencari nilai prediksi dari data validasi yang telah dinormalisasi menggunakan model SVM yang telah dilatih\n",
        "knn_predictions = knn_classifier.predict(X_test_scaled)  #mencari nilai prediksi dari data validasi yang telah dinormalisasi menggunakan model KNN yang telah dilatih\n",
        "\n",
        "#mencari nilai akurasi dari model SVM dan KNN\n",
        "svm_accuracy = accuracy_score(y_test, svm_predictions)\n",
        "knn_accuracy = accuracy_score(y_test, knn_predictions)\n",
        "\n",
        "#membuat report dari model SVM dan KNN\n",
        "svm_report = classification_report(y_test, svm_predictions, target_names=label_encoder.classes_)\n",
        "knn_report = classification_report(y_test, knn_predictions, target_names=label_encoder.classes_)\n",
        "\n",
        "#mencari nilai sensitivity dari model SVM dan KNN\n",
        "#svm_sensitivity = svm_TP / (svm_TP + svm_FN)\n",
        "#knn_sensitivity = knn_TP / (knn_TP + knn_FN)\n",
        "svm_recall = recall_score(y_test, svm_predictions, average='weighted')\n",
        "knn_recall = recall_score(y_test, knn_predictions, average='weighted')\n",
        "\n",
        "#mencari nilai specificity dari model SVM dan KNN\n",
        "svm_specificity = svm_TN / (svm_TN + svm_FP)\n",
        "knn_specificity = knn_TN / (knn_TN + knn_FP)\n",
        "\n",
        "#mencari nilai f1 score dari model SVM dan KNN\n",
        "svm_f1 = f1_score(y_test, svm_predictions, average='weighted')\n",
        "knn_f1 = f1_score(y_test, knn_predictions, average='weighted')\n"
      ],
      "metadata": {
        "id": "p5qDcjVDmWWl"
      },
      "execution_count": 662,
      "outputs": []
    },
    {
      "cell_type": "markdown",
      "source": [
        "Print Hasil Akurasi, Sensitivitas, Specifitas, F1-Score"
      ],
      "metadata": {
        "id": "xMMmlXtLmblz"
      }
    },
    {
      "cell_type": "code",
      "source": [
        "print('Sensitivity klasifikasi SVM: ', svm_recall)\n",
        "print(\"Specificity kalsifikasi SVM:\", svm_specificity)\n",
        "print(\"Akurasi Klasifikasi SVM:\", svm_accuracy)\n",
        "print(\"F1-Score Klasifikasi SVM:\", svm_f1)\n",
        "print(\"\\nLaporan Klasifikasi SVM:\")\n",
        "print(svm_report)\n",
        "\n",
        "print(\"Sensitivity klasifikasi K-NN:\", knn_recall)\n",
        "print(\"Specificity klasifikasi K-NN:\", knn_specificity)\n",
        "print(\"Akurasi Klasifikasi K-NN:\", knn_accuracy)\n",
        "print(\"F1-Score Klasifikasi K-NN:\", knn_f1)\n",
        "print(\"\\nLaporan Klasifikasi K-NN:\")\n",
        "print(knn_report)"
      ],
      "metadata": {
        "colab": {
          "base_uri": "https://localhost:8080/"
        },
        "id": "IRkYRMUfmZsJ",
        "outputId": "09a48018-c3f9-419c-d6a1-8838b0d945d9"
      },
      "execution_count": 663,
      "outputs": [
        {
          "output_type": "stream",
          "name": "stdout",
          "text": [
            "Sensitivity klasifikasi SVM:  0.616\n",
            "Specificity kalsifikasi SVM: 0.7857142857142857\n",
            "Akurasi Klasifikasi SVM: 0.616\n",
            "F1-Score Klasifikasi SVM: 0.6036952336307779\n",
            "\n",
            "Laporan Klasifikasi SVM:\n",
            "              precision    recall  f1-score   support\n",
            "\n",
            "           A       0.60      0.65      0.62        51\n",
            "           C       0.73      0.79      0.76        47\n",
            "           E       0.37      0.26      0.30        27\n",
            "\n",
            "    accuracy                           0.62       125\n",
            "   macro avg       0.56      0.56      0.56       125\n",
            "weighted avg       0.60      0.62      0.60       125\n",
            "\n",
            "Sensitivity klasifikasi K-NN: 0.64\n",
            "Specificity klasifikasi K-NN: 0.8260869565217391\n",
            "Akurasi Klasifikasi K-NN: 0.64\n",
            "F1-Score Klasifikasi K-NN: 0.6307963097232292\n",
            "\n",
            "Laporan Klasifikasi K-NN:\n",
            "              precision    recall  f1-score   support\n",
            "\n",
            "           A       0.63      0.75      0.68        51\n",
            "           C       0.76      0.72      0.74        47\n",
            "           E       0.40      0.30      0.34        27\n",
            "\n",
            "    accuracy                           0.64       125\n",
            "   macro avg       0.60      0.59      0.59       125\n",
            "weighted avg       0.63      0.64      0.63       125\n",
            "\n"
          ]
        }
      ]
    },
    {
      "cell_type": "markdown",
      "source": [
        "## **2.) 50% training, 25% validation, dan 25% testing**"
      ],
      "metadata": {
        "id": "8JSb5xGwm3E5"
      }
    },
    {
      "cell_type": "markdown",
      "source": [
        "## Preprocessing Data"
      ],
      "metadata": {
        "id": "yvGuGuM29tXm"
      }
    },
    {
      "cell_type": "code",
      "source": [
        "X = df.iloc[:, :-1]  # penentuan fitur (mengambambil semua kolom kecuali kolom terakhir) atau dapat menggunakan syntax x= df.drop(['label'], index = 0 (baris)/ 1 (kolom))\n",
        "y = df.iloc[:, -1]   # Target ( mengambil kolom target/ label yaitu kolom terakhir)  atau dapat menggunakan syntax y=df ['label']\n",
        "\n",
        "X_temp, X_train, y_temp, y_train = train_test_split(X, y, test_size=0.5, random_state=42)\n",
        "\n",
        "X_test, X_val, y_val, y_test = train_test_split(X_temp, y_temp, test_size=0.5, random_state=42) #digunakan untuk membagi data temp menjadi data train dan validasi\n",
        "\n",
        "##preprocessing data untuk SVM\n",
        "scaler = StandardScaler() # membuat objek dari kelas StandardScaler yang akan digunakan untuk menormalkan atau menskalakan fitur-fitur dataset.\n",
        "X_train_scaled = scaler.fit_transform(X_train)  #untuk menormalkan fitur-fitur dalam data training\n",
        "X_val_scaled = scaler.transform(X_val) #menerapkan transformasi yang sama yang diterapkan pada data training ke data validasi\n",
        "X_test_scaled = scaler.transform(X_test) #menerapkan transformasi yang sama yang diterapkan pada data training ke data testing\n"
      ],
      "metadata": {
        "id": "XgsNkF5jm9cu"
      },
      "execution_count": 664,
      "outputs": []
    },
    {
      "cell_type": "markdown",
      "source": [
        "## Hasil"
      ],
      "metadata": {
        "id": "YKGHWGneEw5J"
      }
    },
    {
      "cell_type": "markdown",
      "source": [
        " Evaluasi model berdasarkan nilai dari 4 parameter yang ingin diuji ( Akurasi, Sensitivitas, Specifitas, F1-Score )"
      ],
      "metadata": {
        "id": "oWX_cpqYCIK3"
      }
    },
    {
      "cell_type": "code",
      "source": [
        "#Evaluasi model\n",
        "svm_predictions = svm_classifier.predict(X_test_scaled)  #mencari nilai prediksi dari data validasi yang telah dinormalisasi menggunakan model SVM yang telah dilatih\n",
        "knn_predictions = knn_classifier.predict(X_test_scaled)  #mencari nilai prediksi dari data validasi yang telah dinormalisasi menggunakan model KNN yang telah dilatih\n",
        "\n",
        "#mencari nilai akurasi dari model SVM dan KNN\n",
        "svm_accuracy = accuracy_score(y_val, svm_predictions)\n",
        "knn_accuracy = accuracy_score(y_val, knn_predictions)\n",
        "\n",
        "#membuat report dari model SVM dan KNN\n",
        "svm_report = classification_report(y_val, svm_predictions, target_names=label_encoder.classes_)\n",
        "knn_report = classification_report(y_val, knn_predictions, target_names=label_encoder.classes_)\n",
        "\n",
        "#mencari nilai sensitivity dari model SVM dan KNN\n",
        "#svm_sensitivity = svm_TP / (svm_TP + svm_FN)\n",
        "#knn_sensitivity = knn_TP / (knn_TP + knn_FN)\n",
        "svm_recall = recall_score(y_val, svm_predictions, average='weighted')\n",
        "knn_recall = recall_score(y_val, knn_predictions, average='weighted')\n",
        "\n",
        "#mencari nilai specificity dari model SVM dan KNN\n",
        "svm_specificity = svm_TN / (svm_TN + svm_FP)\n",
        "knn_specificity = knn_TN / (knn_TN + knn_FP)\n",
        "\n",
        "#mencari nilai f1 score dari model SVM dan KNN\n",
        "svm_f1 = f1_score(y_val, svm_predictions, average='weighted')\n",
        "knn_f1 = f1_score(y_val, knn_predictions, average='weighted')\n",
        "\n"
      ],
      "metadata": {
        "id": "Pm4E16WJm-e7"
      },
      "execution_count": 665,
      "outputs": []
    },
    {
      "cell_type": "markdown",
      "source": [
        "Print Hasil Akurasi, Sensitivitas, Specifitas, F1-Score"
      ],
      "metadata": {
        "id": "Um9i14iHE1vm"
      }
    },
    {
      "cell_type": "code",
      "source": [
        "print(\"Sensitivity Klasifikasi SVM:\", svm_recall)\n",
        "print(\"Specificity Klasifikasi SVM:\", svm_specificity)\n",
        "print(\"Akurasi Klasifikasi SVM:\", svm_accuracy)\n",
        "print(\"F1-Score Klasifikasi SVM:\", svm_f1)\n",
        "print(\"\\nLaporan Klasifikasi SVM:\")\n",
        "print(svm_report)\n",
        "\n",
        "\n",
        "print(\"Sensitivity Klasifikasi K-NN:\", knn_recall)\n",
        "print(\"Specificity Klasifikasi K-NN:\", knn_specificity)\n",
        "print(\"Akurasi Klasifikasi K-NN:\", knn_accuracy)\n",
        "print(\"F1-Score Klasifikasi K-NN:\", knn_f1)\n",
        "print(\"\\nLaporan Klasifikasi K-NN:\")\n",
        "print(knn_report)"
      ],
      "metadata": {
        "id": "C8ejw_GwnHwO",
        "colab": {
          "base_uri": "https://localhost:8080/"
        },
        "outputId": "8ce66739-ffe0-4524-9713-c46df82ffb96"
      },
      "execution_count": 666,
      "outputs": [
        {
          "output_type": "stream",
          "name": "stdout",
          "text": [
            "Sensitivity Klasifikasi SVM: 0.792\n",
            "Specificity Klasifikasi SVM: 0.7857142857142857\n",
            "Akurasi Klasifikasi SVM: 0.792\n",
            "F1-Score Klasifikasi SVM: 0.7761797776573385\n",
            "\n",
            "Laporan Klasifikasi SVM:\n",
            "              precision    recall  f1-score   support\n",
            "\n",
            "           A       0.75      0.83      0.79        48\n",
            "           C       0.84      0.96      0.90        50\n",
            "           E       0.73      0.41      0.52        27\n",
            "\n",
            "    accuracy                           0.79       125\n",
            "   macro avg       0.78      0.73      0.74       125\n",
            "weighted avg       0.79      0.79      0.78       125\n",
            "\n",
            "Sensitivity Klasifikasi K-NN: 0.768\n",
            "Specificity Klasifikasi K-NN: 0.8260869565217391\n",
            "Akurasi Klasifikasi K-NN: 0.768\n",
            "F1-Score Klasifikasi K-NN: 0.7597276466108148\n",
            "\n",
            "Laporan Klasifikasi K-NN:\n",
            "              precision    recall  f1-score   support\n",
            "\n",
            "           A       0.75      0.83      0.79        48\n",
            "           C       0.80      0.86      0.83        50\n",
            "           E       0.72      0.48      0.58        27\n",
            "\n",
            "    accuracy                           0.77       125\n",
            "   macro avg       0.76      0.72      0.73       125\n",
            "weighted avg       0.76      0.77      0.76       125\n",
            "\n"
          ]
        }
      ]
    },
    {
      "cell_type": "markdown",
      "source": [
        "## **3.) 10 Fold CV**"
      ],
      "metadata": {
        "id": "eAnxDKsAnK5K"
      }
    },
    {
      "cell_type": "code",
      "source": [],
      "metadata": {
        "id": "fI9Q9TFsny5J"
      },
      "execution_count": 666,
      "outputs": []
    },
    {
      "cell_type": "markdown",
      "source": [
        "## Preprocessing Data"
      ],
      "metadata": {
        "id": "0wzAWxCH74DJ"
      }
    },
    {
      "cell_type": "code",
      "source": [
        "# Inisialisasi model SVM dan K-NN menggunakan parameter terbaik yang telah ditentukan sebelumnnya\n",
        "svm_classifier = SVC(**svm_best_params)\n",
        "knn_classifier = KNeighborsClassifier(**knn_best_params)\n",
        "\n",
        "# Inisialisasi skalar untuk penskalaan fitur\n",
        "scaler = StandardScaler()\n",
        "\n",
        "# Penskalaan fitur\n",
        "X_scaled = scaler.fit_transform(X)"
      ],
      "metadata": {
        "id": "CxOPML81n0WF"
      },
      "execution_count": 667,
      "outputs": []
    },
    {
      "cell_type": "markdown",
      "source": [
        "## Perhitungan score validasi silang"
      ],
      "metadata": {
        "id": "phoitGwb83DA"
      }
    },
    {
      "cell_type": "code",
      "source": [
        "kf = KFold(n_splits=10, shuffle=True, random_state=42) #membuat objek kf yang berisikan kfold dari library scikit learn dengan jumlahsplit atau validasi silang sebanyak 10 bagian dan 10 kali uji. dimana data akan diacak (shuffle true)\n",
        "\n",
        "def specificity_score(y_true, y_pred):\n",
        "    svm_TN, svm_FP, svm_FN, svm_TP, _, _, _, _, _ = confusion_matrix(y_true, y_pred).ravel() #nyalakan jika bentuk confusion matrixnya 3x3\n",
        "    #svm_TN, svm_FP, svm_FN, svm_TP = confusion_matrix(y_true, y_pred).ravel()\n",
        "    return svm_TN / (svm_TN + svm_FP)\n",
        "\n",
        "def specificity_score1(y_true, y_pred):\n",
        "    knn_TN, knn_FP, knn_FN, knn_TP, _, _, _, _, _ = confusion_matrix(y_true, y_pred).ravel() #nyalakan jika bentuk confusion matrixnya 3x3\n",
        "    #knn_TN, knn_FP, knn_FN, knn_TP = confusion_matrix(y_true, y_pred).ravel()\n",
        "    return knn_TN / (knn_TN + knn_FP)\n",
        "\n",
        "    #penentuan posisi nilai confusion matriks yang dibutuhkan, digunakan untuk mencari posisi TN,TP,FN,FP juga harus digunakan jika conf matriks menghasilkan matriks 2x2\n",
        "    svm_TN = confusion_matrix(y_test, svm_predictions)[0, 0]\n",
        "    svm_FP = confusion_matrix(y_test, svm_predictions)[0, 1]\n",
        "    svm_FN = confusion_matrix(y_test, svm_predictions)[1, 0]\n",
        "    svm_TP = confusion_matrix(y_test, svm_predictions)[1, 1]\n",
        "\n",
        "    knn_TN = confusion_matrix(y_test, knn_predictions)[0, 0]\n",
        "    knn_FP = confusion_matrix(y_test, knn_predictions)[0, 1]\n",
        "    knn_FN = confusion_matrix(y_test, knn_predictions)[1, 0]\n",
        "    knn_TP = confusion_matrix(y_test, knn_predictions)[1, 1]\n",
        "\n",
        "#SVM\n",
        "akurasi_svm = cross_val_score(svm_classifier, X_scaled, y, cv = kf, scoring='accuracy')\n",
        "print('Cross-validation akurasi SVM:{}'.format(akurasi_svm))\n",
        "f1_score_svm = cross_val_score(svm_classifier, X_scaled, y, cv = kf, scoring= 'f1_macro')\n",
        "print('Cross-validation f1-score SVM:{}'.format(f1_score_svm))\n",
        "sensitivity_svm = cross_val_score(svm_classifier, X_scaled, y, cv = kf, scoring= 'recall_macro')\n",
        "print('Cross-validation sensitivity SVM:{}'.format(sensitivity_svm))\n",
        "specificity_svm = cross_val_score(svm_classifier, X_scaled, y, cv = kf, scoring= make_scorer(specificity_score))\n",
        "print('Cross-validation specificity SVM:{}'.format(specificity_svm))\n",
        "\n",
        "#KNN\n",
        "akurasi_knn = cross_val_score(knn_classifier, X_scaled, y, cv = kf, scoring='accuracy')\n",
        "print('Cross-validation akurasi KNN:{}'.format(akurasi_knn))\n",
        "f1_score_knn = cross_val_score(knn_classifier, X_scaled, y, cv = kf, scoring= 'f1_macro')\n",
        "print('Cross-validation f1-score KNN:{}'.format(f1_score_knn))\n",
        "sensitivity_knn = cross_val_score(knn_classifier, X_scaled, y, cv = kf, scoring='recall_macro')\n",
        "print('Cross-validation sensitivity KNN:{}'.format(sensitivity_knn))\n",
        "specificity_knn = cross_val_score(knn_classifier, X_scaled, y, cv = kf, scoring= make_scorer(specificity_score1))\n",
        "print('Cross-validation specificity KNN:{}'.format(specificity_knn))\n",
        "\n"
      ],
      "metadata": {
        "colab": {
          "base_uri": "https://localhost:8080/"
        },
        "id": "reG6cLzw7zV0",
        "outputId": "95799e2b-e813-4525-925d-a41b27b09c54"
      },
      "execution_count": 668,
      "outputs": [
        {
          "output_type": "stream",
          "name": "stdout",
          "text": [
            "Cross-validation akurasi SVM:[0.64 0.58 0.76 0.74 0.82 0.76 0.68 0.78 0.66 0.76]\n",
            "Cross-validation f1-score SVM:[0.62294686 0.51128357 0.65365642 0.72004608 0.76296296 0.69831441\n",
            " 0.5531401  0.74065207 0.56013986 0.7117763 ]\n",
            "Cross-validation sensitivity SVM:[0.62214452 0.52376396 0.65175983 0.74592075 0.76258235 0.70196581\n",
            " 0.57045455 0.73333333 0.57449495 0.70572391]\n",
            "Cross-validation specificity SVM:[0.88235294 0.63157895 1.         0.81818182 0.9        0.90909091\n",
            " 0.7        0.83333333 0.76923077 0.80952381]\n",
            "Cross-validation akurasi KNN:[0.6  0.58 0.84 0.8  0.88 0.78 0.72 0.7  0.72 0.82]\n",
            "Cross-validation f1-score KNN:[0.56146973 0.53412698 0.72621871 0.78244631 0.8442029  0.75648352\n",
            " 0.62652885 0.63573274 0.69433107 0.79769722]\n",
            "Cross-validation sensitivity KNN:[0.56379176 0.53564593 0.7184265  0.78904429 0.80737813 0.76076923\n",
            " 0.62424242 0.64444444 0.68989899 0.78754209]\n",
            "Cross-validation specificity KNN:[0.88888889 0.68421053 1.         0.91304348 0.90909091 0.9\n",
            " 0.77272727 0.83333333 0.69230769 0.85714286]\n"
          ]
        }
      ]
    },
    {
      "cell_type": "markdown",
      "source": [
        "## Hasil 10 fold CV"
      ],
      "metadata": {
        "id": "_wc5L_WDwK3p"
      }
    },
    {
      "cell_type": "code",
      "source": [
        "#SVM\n",
        "print('Hasil dari 10 fold CV untuk klasifikasi dengan model SVM sebagai berikut:')\n",
        "print('Average cross-validation sensitivity: {:.2f}'.format(sensitivity_svm.mean()))\n",
        "print('Average cross-validation specificity: {:.2f}'.format(specificity_svm.mean()))\n",
        "print('Average cross-validation akurasi: {:.2f}'.format(akurasi_svm.mean()))\n",
        "print('Average cross-validation f1-score: {:.2f}'.format(f1_score_svm.mean()))\n",
        "\n",
        "\n",
        "#KNN\n",
        "print('Hasil dari 10 fold CV untuk klasifikasi dengan model KNN sebagai berikut:')\n",
        "print('Average cross-validation sensitivity: {:.2f}'.format(sensitivity_knn.mean()))\n",
        "print('Average cross-validation specificity: {:.2f}'.format(specificity_knn.mean()))\n",
        "print('Average cross-validation akurasi: {:.2f}'.format(akurasi_knn.mean()))\n",
        "print('Average cross-validation f1-score: {:.2f}'.format(f1_score_knn.mean()))\n"
      ],
      "metadata": {
        "id": "cTIvpH-0TW-M",
        "colab": {
          "base_uri": "https://localhost:8080/"
        },
        "outputId": "5195d315-e73f-4236-81d4-97d4bacb34b8"
      },
      "execution_count": 669,
      "outputs": [
        {
          "output_type": "stream",
          "name": "stdout",
          "text": [
            "Hasil dari 10 fold CV untuk klasifikasi dengan model SVM sebagai berikut:\n",
            "Average cross-validation sensitivity: 0.66\n",
            "Average cross-validation specificity: 0.83\n",
            "Average cross-validation akurasi: 0.72\n",
            "Average cross-validation f1-score: 0.65\n",
            "Hasil dari 10 fold CV untuk klasifikasi dengan model KNN sebagai berikut:\n",
            "Average cross-validation sensitivity: 0.69\n",
            "Average cross-validation specificity: 0.85\n",
            "Average cross-validation akurasi: 0.74\n",
            "Average cross-validation f1-score: 0.70\n"
          ]
        }
      ]
    }
  ]
}